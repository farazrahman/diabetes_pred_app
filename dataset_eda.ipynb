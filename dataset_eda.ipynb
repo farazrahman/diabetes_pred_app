{
 "cells": [
  {
   "cell_type": "code",
   "execution_count": 1,
   "metadata": {
    "collapsed": true
   },
   "outputs": [],
   "source": [
    "import pandas as pd\n",
    "import matplotlib.pyplot as plt\n",
    "import seaborn as sns"
   ]
  },
  {
   "cell_type": "code",
   "execution_count": 2,
   "outputs": [
    {
     "name": "stdout",
     "output_type": "stream",
     "text": [
      "<class 'pandas.core.frame.DataFrame'>\n",
      "RangeIndex: 100000 entries, 0 to 99999\n",
      "Data columns (total 9 columns):\n",
      " #   Column               Non-Null Count   Dtype  \n",
      "---  ------               --------------   -----  \n",
      " 0   gender               100000 non-null  object \n",
      " 1   age                  100000 non-null  float64\n",
      " 2   hypertension         100000 non-null  int64  \n",
      " 3   heart_disease        100000 non-null  int64  \n",
      " 4   smoking_history      100000 non-null  object \n",
      " 5   bmi                  100000 non-null  float64\n",
      " 6   HbA1c_level          100000 non-null  float64\n",
      " 7   blood_glucose_level  100000 non-null  int64  \n",
      " 8   diabetes             100000 non-null  int64  \n",
      "dtypes: float64(3), int64(4), object(2)\n",
      "memory usage: 6.9+ MB\n"
     ]
    }
   ],
   "source": [
    "diabetes_df = pd.read_csv('diabetes_prediction_dataset.csv')\n",
    "diabetes_df.info()"
   ],
   "metadata": {
    "collapsed": false,
    "pycharm": {
     "name": "#%%\n"
    }
   }
  },
  {
   "cell_type": "code",
   "execution_count": 3,
   "outputs": [
    {
     "name": "stdout",
     "output_type": "stream",
     "text": [
      "Series([], dtype: int64)\n"
     ]
    }
   ],
   "source": [
    "#Check any missing values\n",
    "\n",
    "missing_values = diabetes_df.isnull().sum()\n",
    "print(missing_values[missing_values > 0])"
   ],
   "metadata": {
    "collapsed": false,
    "pycharm": {
     "name": "#%%\n"
    }
   }
  },
  {
   "cell_type": "code",
   "execution_count": 6,
   "outputs": [
    {
     "name": "stdout",
     "output_type": "stream",
     "text": [
      "Duplicate Rows:\n",
      "       gender   age  hypertension  heart_disease smoking_history    bmi   \n",
      "2756     Male  80.0             0              0         No Info  27.32  \\\n",
      "3272   Female  80.0             0              0         No Info  27.32   \n",
      "3418   Female  19.0             0              0         No Info  27.32   \n",
      "3939   Female  78.0             1              0          former  27.32   \n",
      "3960     Male  47.0             0              0         No Info  27.32   \n",
      "...       ...   ...           ...            ...             ...    ...   \n",
      "99980  Female  52.0             0              0           never  27.32   \n",
      "99985    Male  25.0             0              0         No Info  27.32   \n",
      "99989  Female  26.0             0              0         No Info  27.32   \n",
      "99990    Male  39.0             0              0         No Info  27.32   \n",
      "99995  Female  80.0             0              0         No Info  27.32   \n",
      "\n",
      "       HbA1c_level  blood_glucose_level  diabetes  \n",
      "2756           6.6                  159         0  \n",
      "3272           3.5                   80         0  \n",
      "3418           6.5                  100         0  \n",
      "3939           3.5                  130         0  \n",
      "3960           6.0                  200         0  \n",
      "...            ...                  ...       ...  \n",
      "99980          6.1                  145         0  \n",
      "99985          5.8                  145         0  \n",
      "99989          5.0                  158         0  \n",
      "99990          6.1                  100         0  \n",
      "99995          6.2                   90         0  \n",
      "\n",
      "[3854 rows x 9 columns]\n",
      "gender                 3854\n",
      "age                    3854\n",
      "hypertension           3854\n",
      "heart_disease          3854\n",
      "smoking_history        3854\n",
      "bmi                    3854\n",
      "HbA1c_level            3854\n",
      "blood_glucose_level    3854\n",
      "diabetes               3854\n",
      "dtype: int64\n"
     ]
    }
   ],
   "source": [
    "# Check for duplicate rows\n",
    "duplicate_rows = diabetes_df[diabetes_df.duplicated()]\n",
    "\n",
    "# Print the duplicate rows, if any\n",
    "if not duplicate_rows.empty:\n",
    "    print(\"Duplicate Rows:\")\n",
    "    print(duplicate_rows)\n",
    "    print(duplicate_rows.count())\n",
    "else:\n",
    "    print(\"No duplicate rows found.\")"
   ],
   "metadata": {
    "collapsed": false,
    "pycharm": {
     "name": "#%%\n"
    }
   }
  },
  {
   "cell_type": "code",
   "execution_count": 5,
   "outputs": [
    {
     "name": "stdout",
     "output_type": "stream",
     "text": [
      "Statistical Properties of the Dataset:\n",
      "-------------------------------------\n",
      "Number of rows:  100000\n",
      "Number of columns:  9\n",
      "\n",
      "\n",
      "Descriptive Statistics:\n",
      "-----------------------\n",
      "                 age  hypertension  heart_disease            bmi   \n",
      "count  100000.000000  100000.00000  100000.000000  100000.000000  \\\n",
      "mean       41.885856       0.07485       0.039420      27.320767   \n",
      "std        22.516840       0.26315       0.194593       6.636783   \n",
      "min         0.080000       0.00000       0.000000      10.010000   \n",
      "25%        24.000000       0.00000       0.000000      23.630000   \n",
      "50%        43.000000       0.00000       0.000000      27.320000   \n",
      "75%        60.000000       0.00000       0.000000      29.580000   \n",
      "max        80.000000       1.00000       1.000000      95.690000   \n",
      "\n",
      "         HbA1c_level  blood_glucose_level       diabetes  \n",
      "count  100000.000000        100000.000000  100000.000000  \n",
      "mean        5.527507           138.058060       0.085000  \n",
      "std         1.070672            40.708136       0.278883  \n",
      "min         3.500000            80.000000       0.000000  \n",
      "25%         4.800000           100.000000       0.000000  \n",
      "50%         5.800000           140.000000       0.000000  \n",
      "75%         6.200000           159.000000       0.000000  \n",
      "max         9.000000           300.000000       1.000000  \n"
     ]
    }
   ],
   "source": [
    "# Display basic statistical properties of the dataset\n",
    "print(\"Statistical Properties of the Dataset:\")\n",
    "print(\"-------------------------------------\")\n",
    "print(\"Number of rows: \", diabetes_df.shape[0])\n",
    "print(\"Number of columns: \", diabetes_df.shape[1])\n",
    "print(\"\\n\")\n",
    "print(\"Descriptive Statistics:\")\n",
    "print(\"-----------------------\")\n",
    "print(diabetes_df.describe())"
   ],
   "metadata": {
    "collapsed": false,
    "pycharm": {
     "name": "#%%\n"
    }
   }
  }
 ],
 "metadata": {
  "kernelspec": {
   "display_name": "Python 3",
   "language": "python",
   "name": "python3"
  },
  "language_info": {
   "codemirror_mode": {
    "name": "ipython",
    "version": 2
   },
   "file_extension": ".py",
   "mimetype": "text/x-python",
   "name": "python",
   "nbconvert_exporter": "python",
   "pygments_lexer": "ipython2",
   "version": "2.7.6"
  }
 },
 "nbformat": 4,
 "nbformat_minor": 0
}